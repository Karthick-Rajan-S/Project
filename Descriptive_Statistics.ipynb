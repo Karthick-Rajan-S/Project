{
  "nbformat": 4,
  "nbformat_minor": 0,
  "metadata": {
    "colab": {
      "provenance": []
    },
    "kernelspec": {
      "name": "python3",
      "display_name": "Python 3"
    },
    "language_info": {
      "name": "python"
    }
  },
  "cells": [
    {
      "cell_type": "code",
      "source": [],
      "metadata": {
        "id": "l3J5ug1BHK8M"
      },
      "execution_count": null,
      "outputs": []
    },
    {
      "cell_type": "code",
      "execution_count": 7,
      "metadata": {
        "id": "xJktw90k7s3e"
      },
      "outputs": [],
      "source": [
        "import pandas as pd"
      ]
    },
    {
      "cell_type": "code",
      "source": [
        "df = pd.read_csv('/content/Dataset/weather - weather.csv')"
      ],
      "metadata": {
        "id": "SETMlUPD99mo"
      },
      "execution_count": 12,
      "outputs": []
    },
    {
      "cell_type": "code",
      "source": [
        "selected_columns = ['MinTemp', 'MaxTemp', 'Rainfall', 'Evaporation']"
      ],
      "metadata": {
        "id": "bUWczHrM-BVw"
      },
      "execution_count": 13,
      "outputs": []
    },
    {
      "cell_type": "code",
      "source": [
        "mean_values = df[selected_columns].mean()\n",
        "median_values = df[selected_columns].median()\n",
        "std_dev_values = df[selected_columns].std()\n",
        "min_values = df[selected_columns].min()\n",
        "max_values = df[selected_columns].max()"
      ],
      "metadata": {
        "id": "BDrKWx5E-jng"
      },
      "execution_count": 15,
      "outputs": []
    },
    {
      "cell_type": "code",
      "source": [
        "column_stats = df[selected_columns].describe()"
      ],
      "metadata": {
        "id": "QLG5HCS4FmJZ"
      },
      "execution_count": 20,
      "outputs": []
    },
    {
      "cell_type": "code",
      "source": [
        "print(\"Mean Values:\")\n",
        "print(mean_values)\n",
        "\n",
        "print(\"\\nMedian Values:\")\n",
        "print(median_values)\n",
        "\n",
        "print(\"\\nStandard Deviation Values:\")\n",
        "print(std_dev_values)\n",
        "\n",
        "print(\"\\nMin Values:\")\n",
        "print(min_values)\n",
        "\n",
        "print(\"\\nMax Values:\")\n",
        "print(max_values)"
      ],
      "metadata": {
        "colab": {
          "base_uri": "https://localhost:8080/",
          "height": 0
        },
        "id": "Mr56xZbNEH3p",
        "outputId": "9248d66d-b1ff-450e-b831-da721770c8ab"
      },
      "execution_count": 16,
      "outputs": [
        {
          "output_type": "stream",
          "name": "stdout",
          "text": [
            "Mean Values:\n",
            "MinTemp         7.265574\n",
            "MaxTemp        20.550273\n",
            "Rainfall        1.428415\n",
            "Evaporation     4.521858\n",
            "dtype: float64\n",
            "\n",
            "Median Values:\n",
            "MinTemp         7.45\n",
            "MaxTemp        19.65\n",
            "Rainfall        0.00\n",
            "Evaporation     4.20\n",
            "dtype: float64\n",
            "\n",
            "Standard Deviation Values:\n",
            "MinTemp        6.025800\n",
            "MaxTemp        6.690516\n",
            "Rainfall       4.225800\n",
            "Evaporation    2.669383\n",
            "dtype: float64\n",
            "\n",
            "Min Values:\n",
            "MinTemp       -5.3\n",
            "MaxTemp        7.6\n",
            "Rainfall       0.0\n",
            "Evaporation    0.2\n",
            "dtype: float64\n",
            "\n",
            "Max Values:\n",
            "MinTemp        20.9\n",
            "MaxTemp        35.8\n",
            "Rainfall       39.8\n",
            "Evaporation    13.8\n",
            "dtype: float64\n"
          ]
        }
      ]
    },
    {
      "cell_type": "code",
      "source": [
        "print(column_stats)"
      ],
      "metadata": {
        "colab": {
          "base_uri": "https://localhost:8080/",
          "height": 0
        },
        "id": "1lmCQi_sEwbP",
        "outputId": "93fc3a3b-c53e-4347-e1bc-ea3429bd51e3"
      },
      "execution_count": 18,
      "outputs": [
        {
          "output_type": "stream",
          "name": "stdout",
          "text": [
            "          MinTemp     MaxTemp    Rainfall  Evaporation\n",
            "count  366.000000  366.000000  366.000000   366.000000\n",
            "mean     7.265574   20.550273    1.428415     4.521858\n",
            "std      6.025800    6.690516    4.225800     2.669383\n",
            "min     -5.300000    7.600000    0.000000     0.200000\n",
            "25%      2.300000   15.025000    0.000000     2.200000\n",
            "50%      7.450000   19.650000    0.000000     4.200000\n",
            "75%     12.500000   25.500000    0.200000     6.400000\n",
            "max     20.900000   35.800000   39.800000    13.800000\n"
          ]
        }
      ]
    }
  ]
}